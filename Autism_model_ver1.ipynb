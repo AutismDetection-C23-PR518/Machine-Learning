{
  "nbformat": 4,
  "nbformat_minor": 0,
  "metadata": {
    "colab": {
      "provenance": [],
      "toc_visible": true
    },
    "kernelspec": {
      "name": "python3",
      "display_name": "Python 3"
    },
    "language_info": {
      "name": "python"
    }
  },
  "cells": [
    {
      "cell_type": "markdown",
      "source": [
        "# TRAIN 01"
      ],
      "metadata": {
        "id": "mgH0aQLhSSzS"
      }
    },
    {
      "cell_type": "code",
      "source": [
        "import pandas as pd\n",
        "data = pd.read_csv('/content/drive/MyDrive/Toddler Autism dataset July 2018.csv') \n",
        "data.head(10)"
      ],
      "metadata": {
        "colab": {
          "base_uri": "https://localhost:8080/",
          "height": 615
        },
        "id": "24T0la9ZqC8U",
        "outputId": "e695ba86-852a-4cad-a18c-7c2656a90cf9"
      },
      "execution_count": null,
      "outputs": [
        {
          "output_type": "execute_result",
          "data": {
            "text/plain": [
              "   Case_No  A1  A2  A3  A4  A5  A6  A7  A8  A9  A10  Age_Mons  Qchat-10-Score  \\\n",
              "0        1   0   0   0   0   0   0   1   1   0    1        28               3   \n",
              "1        2   1   1   0   0   0   1   1   0   0    0        36               4   \n",
              "2        3   1   0   0   0   0   0   1   1   0    1        36               4   \n",
              "3        4   1   1   1   1   1   1   1   1   1    1        24              10   \n",
              "4        5   1   1   0   1   1   1   1   1   1    1        20               9   \n",
              "5        6   1   1   0   0   1   1   1   1   1    1        21               8   \n",
              "6        7   1   0   0   1   1   1   0   0   1    0        33               5   \n",
              "7        8   0   1   0   0   1   0   1   1   1    1        33               6   \n",
              "8        9   0   0   0   0   0   0   1   0   0    1        36               2   \n",
              "9       10   1   1   1   0   1   1   0   1   1    1        22               8   \n",
              "\n",
              "  Sex       Ethnicity Jaundice Family_mem_with_ASD    Who completed the test  \\\n",
              "0   f  middle eastern      yes                  no             family member   \n",
              "1   m  White European      yes                  no             family member   \n",
              "2   m  middle eastern      yes                  no             family member   \n",
              "3   m        Hispanic       no                  no             family member   \n",
              "4   f  White European       no                 yes             family member   \n",
              "5   m           black       no                  no             family member   \n",
              "6   m           asian      yes                  no             family member   \n",
              "7   m           asian      yes                  no             family member   \n",
              "8   m           asian       no                  no             family member   \n",
              "9   m     south asian       no                  no  Health Care Professional   \n",
              "\n",
              "  Class/ASD Traits   \n",
              "0                No  \n",
              "1               Yes  \n",
              "2               Yes  \n",
              "3               Yes  \n",
              "4               Yes  \n",
              "5               Yes  \n",
              "6               Yes  \n",
              "7               Yes  \n",
              "8                No  \n",
              "9               Yes  "
            ],
            "text/html": [
              "\n",
              "  <div id=\"df-0813ccde-b23a-44a5-b36f-206db267e7a0\">\n",
              "    <div class=\"colab-df-container\">\n",
              "      <div>\n",
              "<style scoped>\n",
              "    .dataframe tbody tr th:only-of-type {\n",
              "        vertical-align: middle;\n",
              "    }\n",
              "\n",
              "    .dataframe tbody tr th {\n",
              "        vertical-align: top;\n",
              "    }\n",
              "\n",
              "    .dataframe thead th {\n",
              "        text-align: right;\n",
              "    }\n",
              "</style>\n",
              "<table border=\"1\" class=\"dataframe\">\n",
              "  <thead>\n",
              "    <tr style=\"text-align: right;\">\n",
              "      <th></th>\n",
              "      <th>Case_No</th>\n",
              "      <th>A1</th>\n",
              "      <th>A2</th>\n",
              "      <th>A3</th>\n",
              "      <th>A4</th>\n",
              "      <th>A5</th>\n",
              "      <th>A6</th>\n",
              "      <th>A7</th>\n",
              "      <th>A8</th>\n",
              "      <th>A9</th>\n",
              "      <th>A10</th>\n",
              "      <th>Age_Mons</th>\n",
              "      <th>Qchat-10-Score</th>\n",
              "      <th>Sex</th>\n",
              "      <th>Ethnicity</th>\n",
              "      <th>Jaundice</th>\n",
              "      <th>Family_mem_with_ASD</th>\n",
              "      <th>Who completed the test</th>\n",
              "      <th>Class/ASD Traits</th>\n",
              "    </tr>\n",
              "  </thead>\n",
              "  <tbody>\n",
              "    <tr>\n",
              "      <th>0</th>\n",
              "      <td>1</td>\n",
              "      <td>0</td>\n",
              "      <td>0</td>\n",
              "      <td>0</td>\n",
              "      <td>0</td>\n",
              "      <td>0</td>\n",
              "      <td>0</td>\n",
              "      <td>1</td>\n",
              "      <td>1</td>\n",
              "      <td>0</td>\n",
              "      <td>1</td>\n",
              "      <td>28</td>\n",
              "      <td>3</td>\n",
              "      <td>f</td>\n",
              "      <td>middle eastern</td>\n",
              "      <td>yes</td>\n",
              "      <td>no</td>\n",
              "      <td>family member</td>\n",
              "      <td>No</td>\n",
              "    </tr>\n",
              "    <tr>\n",
              "      <th>1</th>\n",
              "      <td>2</td>\n",
              "      <td>1</td>\n",
              "      <td>1</td>\n",
              "      <td>0</td>\n",
              "      <td>0</td>\n",
              "      <td>0</td>\n",
              "      <td>1</td>\n",
              "      <td>1</td>\n",
              "      <td>0</td>\n",
              "      <td>0</td>\n",
              "      <td>0</td>\n",
              "      <td>36</td>\n",
              "      <td>4</td>\n",
              "      <td>m</td>\n",
              "      <td>White European</td>\n",
              "      <td>yes</td>\n",
              "      <td>no</td>\n",
              "      <td>family member</td>\n",
              "      <td>Yes</td>\n",
              "    </tr>\n",
              "    <tr>\n",
              "      <th>2</th>\n",
              "      <td>3</td>\n",
              "      <td>1</td>\n",
              "      <td>0</td>\n",
              "      <td>0</td>\n",
              "      <td>0</td>\n",
              "      <td>0</td>\n",
              "      <td>0</td>\n",
              "      <td>1</td>\n",
              "      <td>1</td>\n",
              "      <td>0</td>\n",
              "      <td>1</td>\n",
              "      <td>36</td>\n",
              "      <td>4</td>\n",
              "      <td>m</td>\n",
              "      <td>middle eastern</td>\n",
              "      <td>yes</td>\n",
              "      <td>no</td>\n",
              "      <td>family member</td>\n",
              "      <td>Yes</td>\n",
              "    </tr>\n",
              "    <tr>\n",
              "      <th>3</th>\n",
              "      <td>4</td>\n",
              "      <td>1</td>\n",
              "      <td>1</td>\n",
              "      <td>1</td>\n",
              "      <td>1</td>\n",
              "      <td>1</td>\n",
              "      <td>1</td>\n",
              "      <td>1</td>\n",
              "      <td>1</td>\n",
              "      <td>1</td>\n",
              "      <td>1</td>\n",
              "      <td>24</td>\n",
              "      <td>10</td>\n",
              "      <td>m</td>\n",
              "      <td>Hispanic</td>\n",
              "      <td>no</td>\n",
              "      <td>no</td>\n",
              "      <td>family member</td>\n",
              "      <td>Yes</td>\n",
              "    </tr>\n",
              "    <tr>\n",
              "      <th>4</th>\n",
              "      <td>5</td>\n",
              "      <td>1</td>\n",
              "      <td>1</td>\n",
              "      <td>0</td>\n",
              "      <td>1</td>\n",
              "      <td>1</td>\n",
              "      <td>1</td>\n",
              "      <td>1</td>\n",
              "      <td>1</td>\n",
              "      <td>1</td>\n",
              "      <td>1</td>\n",
              "      <td>20</td>\n",
              "      <td>9</td>\n",
              "      <td>f</td>\n",
              "      <td>White European</td>\n",
              "      <td>no</td>\n",
              "      <td>yes</td>\n",
              "      <td>family member</td>\n",
              "      <td>Yes</td>\n",
              "    </tr>\n",
              "    <tr>\n",
              "      <th>5</th>\n",
              "      <td>6</td>\n",
              "      <td>1</td>\n",
              "      <td>1</td>\n",
              "      <td>0</td>\n",
              "      <td>0</td>\n",
              "      <td>1</td>\n",
              "      <td>1</td>\n",
              "      <td>1</td>\n",
              "      <td>1</td>\n",
              "      <td>1</td>\n",
              "      <td>1</td>\n",
              "      <td>21</td>\n",
              "      <td>8</td>\n",
              "      <td>m</td>\n",
              "      <td>black</td>\n",
              "      <td>no</td>\n",
              "      <td>no</td>\n",
              "      <td>family member</td>\n",
              "      <td>Yes</td>\n",
              "    </tr>\n",
              "    <tr>\n",
              "      <th>6</th>\n",
              "      <td>7</td>\n",
              "      <td>1</td>\n",
              "      <td>0</td>\n",
              "      <td>0</td>\n",
              "      <td>1</td>\n",
              "      <td>1</td>\n",
              "      <td>1</td>\n",
              "      <td>0</td>\n",
              "      <td>0</td>\n",
              "      <td>1</td>\n",
              "      <td>0</td>\n",
              "      <td>33</td>\n",
              "      <td>5</td>\n",
              "      <td>m</td>\n",
              "      <td>asian</td>\n",
              "      <td>yes</td>\n",
              "      <td>no</td>\n",
              "      <td>family member</td>\n",
              "      <td>Yes</td>\n",
              "    </tr>\n",
              "    <tr>\n",
              "      <th>7</th>\n",
              "      <td>8</td>\n",
              "      <td>0</td>\n",
              "      <td>1</td>\n",
              "      <td>0</td>\n",
              "      <td>0</td>\n",
              "      <td>1</td>\n",
              "      <td>0</td>\n",
              "      <td>1</td>\n",
              "      <td>1</td>\n",
              "      <td>1</td>\n",
              "      <td>1</td>\n",
              "      <td>33</td>\n",
              "      <td>6</td>\n",
              "      <td>m</td>\n",
              "      <td>asian</td>\n",
              "      <td>yes</td>\n",
              "      <td>no</td>\n",
              "      <td>family member</td>\n",
              "      <td>Yes</td>\n",
              "    </tr>\n",
              "    <tr>\n",
              "      <th>8</th>\n",
              "      <td>9</td>\n",
              "      <td>0</td>\n",
              "      <td>0</td>\n",
              "      <td>0</td>\n",
              "      <td>0</td>\n",
              "      <td>0</td>\n",
              "      <td>0</td>\n",
              "      <td>1</td>\n",
              "      <td>0</td>\n",
              "      <td>0</td>\n",
              "      <td>1</td>\n",
              "      <td>36</td>\n",
              "      <td>2</td>\n",
              "      <td>m</td>\n",
              "      <td>asian</td>\n",
              "      <td>no</td>\n",
              "      <td>no</td>\n",
              "      <td>family member</td>\n",
              "      <td>No</td>\n",
              "    </tr>\n",
              "    <tr>\n",
              "      <th>9</th>\n",
              "      <td>10</td>\n",
              "      <td>1</td>\n",
              "      <td>1</td>\n",
              "      <td>1</td>\n",
              "      <td>0</td>\n",
              "      <td>1</td>\n",
              "      <td>1</td>\n",
              "      <td>0</td>\n",
              "      <td>1</td>\n",
              "      <td>1</td>\n",
              "      <td>1</td>\n",
              "      <td>22</td>\n",
              "      <td>8</td>\n",
              "      <td>m</td>\n",
              "      <td>south asian</td>\n",
              "      <td>no</td>\n",
              "      <td>no</td>\n",
              "      <td>Health Care Professional</td>\n",
              "      <td>Yes</td>\n",
              "    </tr>\n",
              "  </tbody>\n",
              "</table>\n",
              "</div>\n",
              "      <button class=\"colab-df-convert\" onclick=\"convertToInteractive('df-0813ccde-b23a-44a5-b36f-206db267e7a0')\"\n",
              "              title=\"Convert this dataframe to an interactive table.\"\n",
              "              style=\"display:none;\">\n",
              "        \n",
              "  <svg xmlns=\"http://www.w3.org/2000/svg\" height=\"24px\"viewBox=\"0 0 24 24\"\n",
              "       width=\"24px\">\n",
              "    <path d=\"M0 0h24v24H0V0z\" fill=\"none\"/>\n",
              "    <path d=\"M18.56 5.44l.94 2.06.94-2.06 2.06-.94-2.06-.94-.94-2.06-.94 2.06-2.06.94zm-11 1L8.5 8.5l.94-2.06 2.06-.94-2.06-.94L8.5 2.5l-.94 2.06-2.06.94zm10 10l.94 2.06.94-2.06 2.06-.94-2.06-.94-.94-2.06-.94 2.06-2.06.94z\"/><path d=\"M17.41 7.96l-1.37-1.37c-.4-.4-.92-.59-1.43-.59-.52 0-1.04.2-1.43.59L10.3 9.45l-7.72 7.72c-.78.78-.78 2.05 0 2.83L4 21.41c.39.39.9.59 1.41.59.51 0 1.02-.2 1.41-.59l7.78-7.78 2.81-2.81c.8-.78.8-2.07 0-2.86zM5.41 20L4 18.59l7.72-7.72 1.47 1.35L5.41 20z\"/>\n",
              "  </svg>\n",
              "      </button>\n",
              "      \n",
              "  <style>\n",
              "    .colab-df-container {\n",
              "      display:flex;\n",
              "      flex-wrap:wrap;\n",
              "      gap: 12px;\n",
              "    }\n",
              "\n",
              "    .colab-df-convert {\n",
              "      background-color: #E8F0FE;\n",
              "      border: none;\n",
              "      border-radius: 50%;\n",
              "      cursor: pointer;\n",
              "      display: none;\n",
              "      fill: #1967D2;\n",
              "      height: 32px;\n",
              "      padding: 0 0 0 0;\n",
              "      width: 32px;\n",
              "    }\n",
              "\n",
              "    .colab-df-convert:hover {\n",
              "      background-color: #E2EBFA;\n",
              "      box-shadow: 0px 1px 2px rgba(60, 64, 67, 0.3), 0px 1px 3px 1px rgba(60, 64, 67, 0.15);\n",
              "      fill: #174EA6;\n",
              "    }\n",
              "\n",
              "    [theme=dark] .colab-df-convert {\n",
              "      background-color: #3B4455;\n",
              "      fill: #D2E3FC;\n",
              "    }\n",
              "\n",
              "    [theme=dark] .colab-df-convert:hover {\n",
              "      background-color: #434B5C;\n",
              "      box-shadow: 0px 1px 3px 1px rgba(0, 0, 0, 0.15);\n",
              "      filter: drop-shadow(0px 1px 2px rgba(0, 0, 0, 0.3));\n",
              "      fill: #FFFFFF;\n",
              "    }\n",
              "  </style>\n",
              "\n",
              "      <script>\n",
              "        const buttonEl =\n",
              "          document.querySelector('#df-0813ccde-b23a-44a5-b36f-206db267e7a0 button.colab-df-convert');\n",
              "        buttonEl.style.display =\n",
              "          google.colab.kernel.accessAllowed ? 'block' : 'none';\n",
              "\n",
              "        async function convertToInteractive(key) {\n",
              "          const element = document.querySelector('#df-0813ccde-b23a-44a5-b36f-206db267e7a0');\n",
              "          const dataTable =\n",
              "            await google.colab.kernel.invokeFunction('convertToInteractive',\n",
              "                                                     [key], {});\n",
              "          if (!dataTable) return;\n",
              "\n",
              "          const docLinkHtml = 'Like what you see? Visit the ' +\n",
              "            '<a target=\"_blank\" href=https://colab.research.google.com/notebooks/data_table.ipynb>data table notebook</a>'\n",
              "            + ' to learn more about interactive tables.';\n",
              "          element.innerHTML = '';\n",
              "          dataTable['output_type'] = 'display_data';\n",
              "          await google.colab.output.renderOutput(dataTable, element);\n",
              "          const docLink = document.createElement('div');\n",
              "          docLink.innerHTML = docLinkHtml;\n",
              "          element.appendChild(docLink);\n",
              "        }\n",
              "      </script>\n",
              "    </div>\n",
              "  </div>\n",
              "  "
            ]
          },
          "metadata": {},
          "execution_count": 2
        }
      ]
    },
    {
      "cell_type": "code",
      "source": [
        "#load data yang diperlukan\n",
        "df = pd.read_csv('/content/drive/MyDrive/Toddler Autism dataset July 2018.csv', \n",
        "                 usecols=['A1', 'A2', 'A3', 'A4', 'A5', 'A6', 'A7', 'A8', 'A9', 'A10', 'Class/ASD Traits '])\n",
        "#ubah value target = 0/1\n",
        "df['Class/ASD Traits '] = df['Class/ASD Traits '].replace({'Yes': 1, 'No': 0})\n",
        "df.head()"
      ],
      "metadata": {
        "id": "xIidlR4l-MuO",
        "colab": {
          "base_uri": "https://localhost:8080/",
          "height": 206
        },
        "outputId": "a3e407a8-3c48-4a51-c87c-a0c429697aaf"
      },
      "execution_count": null,
      "outputs": [
        {
          "output_type": "execute_result",
          "data": {
            "text/plain": [
              "   A1  A2  A3  A4  A5  A6  A7  A8  A9  A10  Class/ASD Traits \n",
              "0   0   0   0   0   0   0   1   1   0    1                  0\n",
              "1   1   1   0   0   0   1   1   0   0    0                  1\n",
              "2   1   0   0   0   0   0   1   1   0    1                  1\n",
              "3   1   1   1   1   1   1   1   1   1    1                  1\n",
              "4   1   1   0   1   1   1   1   1   1    1                  1"
            ],
            "text/html": [
              "\n",
              "  <div id=\"df-ac807a36-2d0b-47fe-83b6-03a318564742\">\n",
              "    <div class=\"colab-df-container\">\n",
              "      <div>\n",
              "<style scoped>\n",
              "    .dataframe tbody tr th:only-of-type {\n",
              "        vertical-align: middle;\n",
              "    }\n",
              "\n",
              "    .dataframe tbody tr th {\n",
              "        vertical-align: top;\n",
              "    }\n",
              "\n",
              "    .dataframe thead th {\n",
              "        text-align: right;\n",
              "    }\n",
              "</style>\n",
              "<table border=\"1\" class=\"dataframe\">\n",
              "  <thead>\n",
              "    <tr style=\"text-align: right;\">\n",
              "      <th></th>\n",
              "      <th>A1</th>\n",
              "      <th>A2</th>\n",
              "      <th>A3</th>\n",
              "      <th>A4</th>\n",
              "      <th>A5</th>\n",
              "      <th>A6</th>\n",
              "      <th>A7</th>\n",
              "      <th>A8</th>\n",
              "      <th>A9</th>\n",
              "      <th>A10</th>\n",
              "      <th>Class/ASD Traits</th>\n",
              "    </tr>\n",
              "  </thead>\n",
              "  <tbody>\n",
              "    <tr>\n",
              "      <th>0</th>\n",
              "      <td>0</td>\n",
              "      <td>0</td>\n",
              "      <td>0</td>\n",
              "      <td>0</td>\n",
              "      <td>0</td>\n",
              "      <td>0</td>\n",
              "      <td>1</td>\n",
              "      <td>1</td>\n",
              "      <td>0</td>\n",
              "      <td>1</td>\n",
              "      <td>0</td>\n",
              "    </tr>\n",
              "    <tr>\n",
              "      <th>1</th>\n",
              "      <td>1</td>\n",
              "      <td>1</td>\n",
              "      <td>0</td>\n",
              "      <td>0</td>\n",
              "      <td>0</td>\n",
              "      <td>1</td>\n",
              "      <td>1</td>\n",
              "      <td>0</td>\n",
              "      <td>0</td>\n",
              "      <td>0</td>\n",
              "      <td>1</td>\n",
              "    </tr>\n",
              "    <tr>\n",
              "      <th>2</th>\n",
              "      <td>1</td>\n",
              "      <td>0</td>\n",
              "      <td>0</td>\n",
              "      <td>0</td>\n",
              "      <td>0</td>\n",
              "      <td>0</td>\n",
              "      <td>1</td>\n",
              "      <td>1</td>\n",
              "      <td>0</td>\n",
              "      <td>1</td>\n",
              "      <td>1</td>\n",
              "    </tr>\n",
              "    <tr>\n",
              "      <th>3</th>\n",
              "      <td>1</td>\n",
              "      <td>1</td>\n",
              "      <td>1</td>\n",
              "      <td>1</td>\n",
              "      <td>1</td>\n",
              "      <td>1</td>\n",
              "      <td>1</td>\n",
              "      <td>1</td>\n",
              "      <td>1</td>\n",
              "      <td>1</td>\n",
              "      <td>1</td>\n",
              "    </tr>\n",
              "    <tr>\n",
              "      <th>4</th>\n",
              "      <td>1</td>\n",
              "      <td>1</td>\n",
              "      <td>0</td>\n",
              "      <td>1</td>\n",
              "      <td>1</td>\n",
              "      <td>1</td>\n",
              "      <td>1</td>\n",
              "      <td>1</td>\n",
              "      <td>1</td>\n",
              "      <td>1</td>\n",
              "      <td>1</td>\n",
              "    </tr>\n",
              "  </tbody>\n",
              "</table>\n",
              "</div>\n",
              "      <button class=\"colab-df-convert\" onclick=\"convertToInteractive('df-ac807a36-2d0b-47fe-83b6-03a318564742')\"\n",
              "              title=\"Convert this dataframe to an interactive table.\"\n",
              "              style=\"display:none;\">\n",
              "        \n",
              "  <svg xmlns=\"http://www.w3.org/2000/svg\" height=\"24px\"viewBox=\"0 0 24 24\"\n",
              "       width=\"24px\">\n",
              "    <path d=\"M0 0h24v24H0V0z\" fill=\"none\"/>\n",
              "    <path d=\"M18.56 5.44l.94 2.06.94-2.06 2.06-.94-2.06-.94-.94-2.06-.94 2.06-2.06.94zm-11 1L8.5 8.5l.94-2.06 2.06-.94-2.06-.94L8.5 2.5l-.94 2.06-2.06.94zm10 10l.94 2.06.94-2.06 2.06-.94-2.06-.94-.94-2.06-.94 2.06-2.06.94z\"/><path d=\"M17.41 7.96l-1.37-1.37c-.4-.4-.92-.59-1.43-.59-.52 0-1.04.2-1.43.59L10.3 9.45l-7.72 7.72c-.78.78-.78 2.05 0 2.83L4 21.41c.39.39.9.59 1.41.59.51 0 1.02-.2 1.41-.59l7.78-7.78 2.81-2.81c.8-.78.8-2.07 0-2.86zM5.41 20L4 18.59l7.72-7.72 1.47 1.35L5.41 20z\"/>\n",
              "  </svg>\n",
              "      </button>\n",
              "      \n",
              "  <style>\n",
              "    .colab-df-container {\n",
              "      display:flex;\n",
              "      flex-wrap:wrap;\n",
              "      gap: 12px;\n",
              "    }\n",
              "\n",
              "    .colab-df-convert {\n",
              "      background-color: #E8F0FE;\n",
              "      border: none;\n",
              "      border-radius: 50%;\n",
              "      cursor: pointer;\n",
              "      display: none;\n",
              "      fill: #1967D2;\n",
              "      height: 32px;\n",
              "      padding: 0 0 0 0;\n",
              "      width: 32px;\n",
              "    }\n",
              "\n",
              "    .colab-df-convert:hover {\n",
              "      background-color: #E2EBFA;\n",
              "      box-shadow: 0px 1px 2px rgba(60, 64, 67, 0.3), 0px 1px 3px 1px rgba(60, 64, 67, 0.15);\n",
              "      fill: #174EA6;\n",
              "    }\n",
              "\n",
              "    [theme=dark] .colab-df-convert {\n",
              "      background-color: #3B4455;\n",
              "      fill: #D2E3FC;\n",
              "    }\n",
              "\n",
              "    [theme=dark] .colab-df-convert:hover {\n",
              "      background-color: #434B5C;\n",
              "      box-shadow: 0px 1px 3px 1px rgba(0, 0, 0, 0.15);\n",
              "      filter: drop-shadow(0px 1px 2px rgba(0, 0, 0, 0.3));\n",
              "      fill: #FFFFFF;\n",
              "    }\n",
              "  </style>\n",
              "\n",
              "      <script>\n",
              "        const buttonEl =\n",
              "          document.querySelector('#df-ac807a36-2d0b-47fe-83b6-03a318564742 button.colab-df-convert');\n",
              "        buttonEl.style.display =\n",
              "          google.colab.kernel.accessAllowed ? 'block' : 'none';\n",
              "\n",
              "        async function convertToInteractive(key) {\n",
              "          const element = document.querySelector('#df-ac807a36-2d0b-47fe-83b6-03a318564742');\n",
              "          const dataTable =\n",
              "            await google.colab.kernel.invokeFunction('convertToInteractive',\n",
              "                                                     [key], {});\n",
              "          if (!dataTable) return;\n",
              "\n",
              "          const docLinkHtml = 'Like what you see? Visit the ' +\n",
              "            '<a target=\"_blank\" href=https://colab.research.google.com/notebooks/data_table.ipynb>data table notebook</a>'\n",
              "            + ' to learn more about interactive tables.';\n",
              "          element.innerHTML = '';\n",
              "          dataTable['output_type'] = 'display_data';\n",
              "          await google.colab.output.renderOutput(dataTable, element);\n",
              "          const docLink = document.createElement('div');\n",
              "          docLink.innerHTML = docLinkHtml;\n",
              "          element.appendChild(docLink);\n",
              "        }\n",
              "      </script>\n",
              "    </div>\n",
              "  </div>\n",
              "  "
            ]
          },
          "metadata": {},
          "execution_count": 3
        }
      ]
    },
    {
      "cell_type": "code",
      "source": [
        "#split data fitures/target\n",
        "x = df.iloc[:,:-1].values\n",
        "y = df.iloc[:,-1].values"
      ],
      "metadata": {
        "id": "V6XgxDrGiedJ"
      },
      "execution_count": null,
      "outputs": []
    },
    {
      "cell_type": "code",
      "source": [
        "print('fitures :', x)\n",
        "print('target', y)"
      ],
      "metadata": {
        "colab": {
          "base_uri": "https://localhost:8080/"
        },
        "id": "dV3cyhTmlqiv",
        "outputId": "5421d94a-610a-4cce-b530-be235ba55240"
      },
      "execution_count": null,
      "outputs": [
        {
          "output_type": "stream",
          "name": "stdout",
          "text": [
            "fitures : [[0 0 0 ... 1 0 1]\n",
            " [1 1 0 ... 0 0 0]\n",
            " [1 0 0 ... 1 0 1]\n",
            " ...\n",
            " [1 0 1 ... 1 1 1]\n",
            " [1 0 0 ... 1 0 1]\n",
            " [1 1 0 ... 1 1 0]]\n",
            "target [0 1 1 ... 1 0 1]\n"
          ]
        }
      ]
    },
    {
      "cell_type": "code",
      "source": [
        "from sklearn.model_selection import train_test_split\n",
        "#split data train/test\n",
        "x_train, x_test, y_train, y_test = train_test_split(x , y, test_size=0.2, random_state=42)"
      ],
      "metadata": {
        "id": "tuS7PfYkoQFH"
      },
      "execution_count": null,
      "outputs": []
    },
    {
      "cell_type": "code",
      "source": [
        "print('jumlah x_train : ',len(x_train))\n",
        "print('jumlah x_test : ',len(x_test))\n",
        "print('jumlah y_train : ',len(y_train))\n",
        "print('jumlah y_test : ',len(y_test))"
      ],
      "metadata": {
        "colab": {
          "base_uri": "https://localhost:8080/"
        },
        "id": "szthNvTCqyd9",
        "outputId": "49448a7c-7f40-44d9-f144-e5fdee2838e5"
      },
      "execution_count": null,
      "outputs": [
        {
          "output_type": "stream",
          "name": "stdout",
          "text": [
            "jumlah x_train :  843\n",
            "jumlah x_test :  211\n",
            "jumlah y_train :  843\n",
            "jumlah y_test :  211\n"
          ]
        }
      ]
    },
    {
      "cell_type": "code",
      "source": [
        "print('x_train : ', x_train.shape)\n",
        "print('x_test : ', x_test.shape)\n",
        "print('y_train : ', y_train.shape)\n",
        "print('y_test : ', y_test.shape)"
      ],
      "metadata": {
        "colab": {
          "base_uri": "https://localhost:8080/"
        },
        "id": "cCMv4ga7rGfc",
        "outputId": "b900285e-0598-441f-8f1c-a4e7fa7c7e88"
      },
      "execution_count": null,
      "outputs": [
        {
          "output_type": "stream",
          "name": "stdout",
          "text": [
            "x_train :  (843, 10)\n",
            "x_test :  (211, 10)\n",
            "y_train :  (843,)\n",
            "y_test :  (211,)\n"
          ]
        }
      ]
    },
    {
      "cell_type": "code",
      "source": [
        "from keras.models import Sequential\n",
        "from keras.layers import Dense"
      ],
      "metadata": {
        "id": "C9R36FkGrflU"
      },
      "execution_count": null,
      "outputs": []
    },
    {
      "cell_type": "code",
      "source": [
        "#siapkan arsitektur model\n",
        "model = Sequential([\n",
        "    Dense(16, activation='relu', input_dim=10),\n",
        "    Dense(10, activation='relu'),\n",
        "    Dense(1, activation='sigmoid')\n",
        "])\n",
        "\n",
        "#compile\n",
        "model.compile(optimizer='adam', loss='binary_crossentropy', metrics=['accuracy'])\n",
        "\n",
        "model.summary()"
      ],
      "metadata": {
        "colab": {
          "base_uri": "https://localhost:8080/"
        },
        "id": "9RTrGNFKtYRR",
        "outputId": "2c9fac68-fab0-4aa5-a16c-d8af8320dcd4"
      },
      "execution_count": null,
      "outputs": [
        {
          "output_type": "stream",
          "name": "stdout",
          "text": [
            "Model: \"sequential\"\n",
            "_________________________________________________________________\n",
            " Layer (type)                Output Shape              Param #   \n",
            "=================================================================\n",
            " dense (Dense)               (None, 16)                176       \n",
            "                                                                 \n",
            " dense_1 (Dense)             (None, 10)                170       \n",
            "                                                                 \n",
            " dense_2 (Dense)             (None, 1)                 11        \n",
            "                                                                 \n",
            "=================================================================\n",
            "Total params: 357\n",
            "Trainable params: 357\n",
            "Non-trainable params: 0\n",
            "_________________________________________________________________\n"
          ]
        }
      ]
    },
    {
      "cell_type": "code",
      "source": [
        "#train model\n",
        "history = model.fit(x_train, y_train, epochs=20, batch_size=10, validation_data=(x_test, y_test))"
      ],
      "metadata": {
        "colab": {
          "base_uri": "https://localhost:8080/"
        },
        "id": "V1hB8aEMt961",
        "outputId": "c4aadebe-635c-48f1-86b7-560c67bc386e"
      },
      "execution_count": null,
      "outputs": [
        {
          "output_type": "stream",
          "name": "stdout",
          "text": [
            "Epoch 1/20\n",
            "85/85 [==============================] - 2s 6ms/step - loss: 0.5382 - accuracy: 0.6940 - val_loss: 0.4637 - val_accuracy: 0.6730\n",
            "Epoch 2/20\n",
            "85/85 [==============================] - 0s 3ms/step - loss: 0.4144 - accuracy: 0.7023 - val_loss: 0.3892 - val_accuracy: 0.7441\n",
            "Epoch 3/20\n",
            "85/85 [==============================] - 0s 2ms/step - loss: 0.3520 - accuracy: 0.7912 - val_loss: 0.3249 - val_accuracy: 0.8531\n",
            "Epoch 4/20\n",
            "85/85 [==============================] - 0s 3ms/step - loss: 0.2949 - accuracy: 0.8624 - val_loss: 0.2638 - val_accuracy: 0.9100\n",
            "Epoch 5/20\n",
            "85/85 [==============================] - 0s 3ms/step - loss: 0.2354 - accuracy: 0.9205 - val_loss: 0.2003 - val_accuracy: 0.9621\n",
            "Epoch 6/20\n",
            "85/85 [==============================] - 0s 3ms/step - loss: 0.1828 - accuracy: 0.9514 - val_loss: 0.1524 - val_accuracy: 0.9668\n",
            "Epoch 7/20\n",
            "85/85 [==============================] - 0s 3ms/step - loss: 0.1403 - accuracy: 0.9632 - val_loss: 0.1109 - val_accuracy: 0.9858\n",
            "Epoch 8/20\n",
            "85/85 [==============================] - 0s 3ms/step - loss: 0.1098 - accuracy: 0.9751 - val_loss: 0.0905 - val_accuracy: 0.9810\n",
            "Epoch 9/20\n",
            "85/85 [==============================] - 0s 3ms/step - loss: 0.0906 - accuracy: 0.9810 - val_loss: 0.0695 - val_accuracy: 0.9905\n",
            "Epoch 10/20\n",
            "85/85 [==============================] - 0s 3ms/step - loss: 0.0752 - accuracy: 0.9858 - val_loss: 0.0588 - val_accuracy: 0.9905\n",
            "Epoch 11/20\n",
            "85/85 [==============================] - 0s 3ms/step - loss: 0.0651 - accuracy: 0.9917 - val_loss: 0.0493 - val_accuracy: 0.9905\n",
            "Epoch 12/20\n",
            "85/85 [==============================] - 0s 3ms/step - loss: 0.0563 - accuracy: 0.9964 - val_loss: 0.0414 - val_accuracy: 0.9905\n",
            "Epoch 13/20\n",
            "85/85 [==============================] - 0s 3ms/step - loss: 0.0485 - accuracy: 0.9976 - val_loss: 0.0367 - val_accuracy: 0.9905\n",
            "Epoch 14/20\n",
            "85/85 [==============================] - 0s 3ms/step - loss: 0.0429 - accuracy: 0.9988 - val_loss: 0.0340 - val_accuracy: 0.9905\n",
            "Epoch 15/20\n",
            "85/85 [==============================] - 0s 3ms/step - loss: 0.0382 - accuracy: 1.0000 - val_loss: 0.0281 - val_accuracy: 0.9905\n",
            "Epoch 16/20\n",
            "85/85 [==============================] - 0s 2ms/step - loss: 0.0340 - accuracy: 0.9988 - val_loss: 0.0254 - val_accuracy: 0.9953\n",
            "Epoch 17/20\n",
            "85/85 [==============================] - 0s 3ms/step - loss: 0.0312 - accuracy: 0.9988 - val_loss: 0.0222 - val_accuracy: 1.0000\n",
            "Epoch 18/20\n",
            "85/85 [==============================] - 0s 3ms/step - loss: 0.0275 - accuracy: 1.0000 - val_loss: 0.0201 - val_accuracy: 1.0000\n",
            "Epoch 19/20\n",
            "85/85 [==============================] - 0s 3ms/step - loss: 0.0242 - accuracy: 1.0000 - val_loss: 0.0183 - val_accuracy: 0.9953\n",
            "Epoch 20/20\n",
            "85/85 [==============================] - 0s 3ms/step - loss: 0.0223 - accuracy: 1.0000 - val_loss: 0.0160 - val_accuracy: 1.0000\n"
          ]
        }
      ]
    },
    {
      "cell_type": "code",
      "source": [
        "#evaluasi performa model\n",
        "loss, acc = model.evaluate(x_test, y_test)\n",
        "print('Test accuracy:', acc)"
      ],
      "metadata": {
        "colab": {
          "base_uri": "https://localhost:8080/"
        },
        "id": "iriPP6Sjvr9A",
        "outputId": "1794ebc3-7706-4c9b-b7b2-fd1467ff903d"
      },
      "execution_count": null,
      "outputs": [
        {
          "output_type": "stream",
          "name": "stdout",
          "text": [
            "7/7 [==============================] - 0s 4ms/step - loss: 0.0160 - accuracy: 1.0000\n",
            "Test accuracy: 1.0\n"
          ]
        }
      ]
    },
    {
      "cell_type": "code",
      "source": [
        "y_pred = model.predict(x_test[:5])\n",
        "y_pred = (y_pred > 0.5) * 1\n",
        "y_pred"
      ],
      "metadata": {
        "colab": {
          "base_uri": "https://localhost:8080/"
        },
        "id": "Y7HqO0r8wHA7",
        "outputId": "0ffc0602-641b-49c3-f0b5-bcc5ce19a0c9"
      },
      "execution_count": null,
      "outputs": [
        {
          "output_type": "stream",
          "name": "stdout",
          "text": [
            "1/1 [==============================] - 0s 137ms/step\n"
          ]
        },
        {
          "output_type": "execute_result",
          "data": {
            "text/plain": [
              "array([[1],\n",
              "       [0],\n",
              "       [0],\n",
              "       [1],\n",
              "       [1]])"
            ]
          },
          "metadata": {},
          "execution_count": 13
        }
      ]
    },
    {
      "cell_type": "code",
      "source": [
        "y_test[:5]"
      ],
      "metadata": {
        "colab": {
          "base_uri": "https://localhost:8080/"
        },
        "id": "fn7Syd6wwtGO",
        "outputId": "4a89c443-5217-40c9-a346-9f9dbf08b39e"
      },
      "execution_count": null,
      "outputs": [
        {
          "output_type": "execute_result",
          "data": {
            "text/plain": [
              "array([1, 0, 0, 1, 1])"
            ]
          },
          "metadata": {},
          "execution_count": 14
        }
      ]
    },
    {
      "cell_type": "code",
      "source": [
        "import matplotlib.pyplot as plt\n",
        "\n",
        "# plot accuracy history\n",
        "plt.plot(history.history['accuracy'])\n",
        "plt.plot(history.history['val_accuracy'])\n",
        "plt.title('Model Accuracy')\n",
        "plt.ylabel('Accuracy')\n",
        "plt.xlabel('Epoch')\n",
        "plt.legend(['train', 'val'], loc='upper left')\n",
        "plt.show()\n",
        "\n",
        "# plot loss history\n",
        "plt.plot(history.history['loss'])\n",
        "plt.plot(history.history['val_loss'])\n",
        "plt.title('Model Loss')\n",
        "plt.ylabel('Loss')\n",
        "plt.xlabel('Epoch')\n",
        "plt.legend(['train', 'val'], loc='upper left')\n",
        "plt.show()"
      ],
      "metadata": {
        "colab": {
          "base_uri": "https://localhost:8080/",
          "height": 927
        },
        "id": "IEOQ8DR8y0hT",
        "outputId": "1af568d3-63df-4935-9ada-07e3857f7b6b"
      },
      "execution_count": null,
      "outputs": [
        {
          "output_type": "display_data",
          "data": {
            "text/plain": [
              "<Figure size 640x480 with 1 Axes>"
            ],
            "image/png": "[encoded data removed]"
          },
          "metadata": {}
        },
        {
          "output_type": "display_data",
          "data": {
            "text/plain": [
              "<Figure size 640x480 with 1 Axes>"
            ],
            "image/png": "[encoded data removed]"
          },
          "metadata": {}
        }
      ]
    },
    {
      "cell_type": "code",
      "source": [
        "model.save('model_01.h5')"
      ],
      "metadata": {
        "id": "kafJcy103g4y"
      },
      "execution_count": null,
      "outputs": []
    },
    {
      "cell_type": "code",
      "source": [
        "#convert models > tf lite\n",
        "import tensorflow as tf\n",
        "tf.saved_model.save(model,'/content/TFLite/')"
      ],
      "metadata": {
        "colab": {
          "base_uri": "https://localhost:8080/"
        },
        "id": "qJCvBWsyPX_d",
        "outputId": "dec42848-3e39-47c0-e1fd-b4aa3b71d88c"
      },
      "execution_count": null,
      "outputs": [
        {
          "output_type": "stream",
          "name": "stderr",
          "text": [
            "WARNING:absl:Found untraced functions such as _update_step_xla while saving (showing 1 of 1). These functions will not be directly callable after loading.\n"
          ]
        }
      ]
    },
    {
      "cell_type": "code",
      "source": [
        "import pathlib\n",
        "converter = tf.lite.TFLiteConverter.from_saved_model('/content/TFLite')\n",
        "tflite_model = converter.convert()\n",
        "tflite_model_file = pathlib.Path('model.tflite')\n",
        "tflite_model_file.write_bytes(tflite_model)"
      ],
      "metadata": {
        "colab": {
          "base_uri": "https://localhost:8080/"
        },
        "id": "QM7_TNqeQW0w",
        "outputId": "9739daed-427f-41c9-debd-09df6ada89a4"
      },
      "execution_count": null,
      "outputs": [
        {
          "output_type": "execute_result",
          "data": {
            "text/plain": [
              "3488"
            ]
          },
          "metadata": {},
          "execution_count": 18
        }
      ]
    },
    {
      "cell_type": "markdown",
      "source": [
        "# Simulasi"
      ],
      "metadata": {
        "id": "29JQmu7zSDME"
      }
    },
    {
      "cell_type": "code",
      "source": [
        "# Daftar pertanyaan\n",
        "pertanyaan = [\n",
        "    \"Does your child look at you when you call his/her name?\",\n",
        "    \"How easy is it for you to get eye contact with your child?\",\n",
        "    \"Does your child point to indicate that s/he wants something?\",\n",
        "    \"Does your child point to share interest with you?\",\n",
        "    \"Does your child pretend?\",\n",
        "    \"Does your child follow where you’re looking?\",\n",
        "    \"If you or someone else in the family is visibly upset, does your child show signs of wanna comfort them?\",\n",
        "    \"Would you describe your child’s first words as: \",\n",
        "    \"Does your child use simple gestures?\",\n",
        "    \"Does your child stare at nothing with no apparent purpose?\"\n",
        "]\n",
        "\n",
        "# Membuat dataframe kosong untuk menyimpan jawaban\n",
        "data = pd.DataFrame(columns=[\"Pertanyaan\", \"Jawaban\"])\n",
        "\n",
        "# Mengisi jawaban untuk setiap pertanyaan\n",
        "for i, pertanyaan in enumerate(pertanyaan):\n",
        "    jawaban = input(pertanyaan + \" (0/1): \")\n",
        "    data.loc[i] = [pertanyaan, jawaban]\n",
        "\n",
        "# Menyimpan jawaban ke file CSV\n",
        "data.to_csv(\"jawaban.csv\", index=False)\n",
        "\n",
        "# Menampilkan data yang telah disimpan\n",
        "print(\"Data jawaban telah disimpan:\")\n",
        "print(data)"
      ],
      "metadata": {
        "colab": {
          "base_uri": "https://localhost:8080/"
        },
        "id": "gcxxivsaLL7O",
        "outputId": "5a43d337-b117-4ef1-c527-223c0b79f65a"
      },
      "execution_count": null,
      "outputs": [
        {
          "output_type": "stream",
          "name": "stdout",
          "text": [
            "Does your child look at you when you call his/her name? (0/1): 0\n",
            "How easy is it for you to get eye contact with your child? (0/1): 0\n",
            "Does your child point to indicate that s/he wants something? (0/1): 1\n",
            "Does your child point to share interest with you? (0/1): 1\n",
            "Does your child pretend? (0/1): 0\n",
            "Does your child follow where you’re looking? (0/1): 0\n",
            "If you or someone else in the family is visibly upset, does your child show signs of wanna comfort them? (0/1): 0\n",
            "Would you describe your child’s first words as:  (0/1): 0\n",
            "Does your child use simple gestures? (0/1): 0\n",
            "Does your child stare at nothing with no apparent purpose? (0/1): 0\n",
            "Data jawaban telah disimpan:\n",
            "                                          Pertanyaan Jawaban\n",
            "0  Does your child look at you when you call his/...       0\n",
            "1  How easy is it for you to get eye contact with...       0\n",
            "2  Does your child point to indicate that s/he wa...       1\n",
            "3  Does your child point to share interest with you?       1\n",
            "4                           Does your child pretend?       0\n",
            "5       Does your child follow where you’re looking?       0\n",
            "6  If you or someone else in the family is visibl...       0\n",
            "7   Would you describe your child’s first words as:        0\n",
            "8               Does your child use simple gestures?       0\n",
            "9  Does your child stare at nothing with no appar...       0\n"
          ]
        }
      ]
    },
    {
      "cell_type": "code",
      "source": [
        "# Mengubah kolom Jawaban menjadi array\n",
        "jawaban = data[\"Jawaban\"].values.astype(int)\n",
        "jawaban = jawaban.transpose()\n",
        "jawaban"
      ],
      "metadata": {
        "colab": {
          "base_uri": "https://localhost:8080/"
        },
        "id": "uJXN_-wrNXcV",
        "outputId": "c62e6a26-595d-4884-cbb4-926d938df70a"
      },
      "execution_count": null,
      "outputs": [
        {
          "output_type": "execute_result",
          "data": {
            "text/plain": [
              "array([0, 0, 1, 1, 0, 0, 0, 0, 0, 0])"
            ]
          },
          "metadata": {},
          "execution_count": 52
        }
      ]
    },
    {
      "cell_type": "code",
      "source": [
        "from keras.models import load_model\n",
        "import numpy as np\n",
        "\n",
        "# Melakukan prediksi menggunakan model\n",
        "model = load_model(\"model_01.h5\")\n",
        "X = np.expand_dims(jawaban, axis=0)\n",
        "prediksi = model.predict(X)\n",
        "\n",
        "# Menampilkan hasil prediksi\n",
        "prediksi"
      ],
      "metadata": {
        "colab": {
          "base_uri": "https://localhost:8080/"
        },
        "id": "NqZo025NH9To",
        "outputId": "246e7466-e060-43cc-a01e-02fee0e7f56f"
      },
      "execution_count": null,
      "outputs": [
        {
          "output_type": "stream",
          "name": "stdout",
          "text": [
            "1/1 [==============================] - 0s 97ms/step\n"
          ]
        },
        {
          "output_type": "execute_result",
          "data": {
            "text/plain": [
              "array([[0.00783026]], dtype=float32)"
            ]
          },
          "metadata": {},
          "execution_count": 54
        }
      ]
    },
    {
      "cell_type": "code",
      "source": [
        "[\"Yes\" if prediksi >= 0.5 else \"No\" for prediksi in prediksi]"
      ],
      "metadata": {
        "colab": {
          "base_uri": "https://localhost:8080/"
        },
        "id": "9NhABeJvIicj",
        "outputId": "864ef786-c781-472f-ddab-ddf95ff1a608"
      },
      "execution_count": null,
      "outputs": [
        {
          "output_type": "execute_result",
          "data": {
            "text/plain": [
              "['No']"
            ]
          },
          "metadata": {},
          "execution_count": 56
        }
      ]
    },
    {
      "cell_type": "markdown",
      "source": [
        "# Test"
      ],
      "metadata": {
        "id": "ZPQd6hE5TIfO"
      }
    },
    {
      "cell_type": "code",
      "source": [
        "import pandas as pd"
      ],
      "metadata": {
        "id": "Q0eF8SzzBXVv"
      },
      "execution_count": null,
      "outputs": []
    },
    {
      "cell_type": "code",
      "source": [
        "# Daftar pertanyaan\n",
        "pertanyaan = [\n",
        "    \"Does your child look at you when you call his/her name?\",\n",
        "    \"How easy is it for you to get eye contact with your child?\",\n",
        "    \"Does your child point to indicate that s/he wants something?\",\n",
        "    \"Does your child point to share interest with you?\",\n",
        "    \"Does your child pretend?\",\n",
        "    \"Does your child follow where you’re looking?\",\n",
        "    \"If you or someone else in the family is visibly upset, does your child show signs of wanna comfort them?\",\n",
        "    \"Would you describe your child’s first words as: \",\n",
        "    \"Does your child use simple gestures?\",\n",
        "    \"Does your child stare at nothing with no apparent purpose?\"\n",
        "]\n",
        "\n",
        "# Membuat dataframe kosong untuk menyimpan jawaban\n",
        "data = pd.DataFrame(columns=[\"Pertanyaan\", \"Jawaban\"])\n",
        "\n",
        "# Mengisi jawaban untuk setiap pertanyaan\n",
        "for i, pertanyaan in enumerate(pertanyaan):\n",
        "    jawaban = input(pertanyaan + \" (0/1): \")\n",
        "    data.loc[i] = [pertanyaan, jawaban]\n",
        "\n",
        "# Menyimpan jawaban ke file CSV\n",
        "data.to_csv(\"jawaban.csv\", index=False)\n",
        "\n",
        "# Menampilkan data yang telah disimpan\n",
        "print(\"Data jawaban telah disimpan:\")\n",
        "print(data)"
      ],
      "metadata": {
        "colab": {
          "base_uri": "https://localhost:8080/"
        },
        "id": "boujc3qYR7yP",
        "outputId": "7026ab5a-d8ba-470c-b5b5-0d0622fe248e"
      },
      "execution_count": null,
      "outputs": [
        {
          "output_type": "stream",
          "name": "stdout",
          "text": [
            "Does your child look at you when you call his/her name? (0/1): 1\n",
            "How easy is it for you to get eye contact with your child? (0/1): 1\n",
            "Does your child point to indicate that s/he wants something? (0/1): 0\n",
            "Does your child point to share interest with you? (0/1): 0\n",
            "Does your child pretend? (0/1): 0\n",
            "Does your child follow where you’re looking? (0/1): 0\n",
            "If you or someone else in the family is visibly upset, does your child show signs of wanna comfort them? (0/1): 0\n",
            "Would you describe your child’s first words as:  (0/1): 0\n",
            "Does your child use simple gestures? (0/1): 0\n",
            "Does your child stare at nothing with no apparent purpose? (0/1): 0\n",
            "Data jawaban telah disimpan:\n",
            "                                          Pertanyaan Jawaban\n",
            "0  Does your child look at you when you call his/...       1\n",
            "1  How easy is it for you to get eye contact with...       1\n",
            "2  Does your child point to indicate that s/he wa...       0\n",
            "3  Does your child point to share interest with you?       0\n",
            "4                           Does your child pretend?       0\n",
            "5       Does your child follow where you’re looking?       0\n",
            "6  If you or someone else in the family is visibl...       0\n",
            "7   Would you describe your child’s first words as:        0\n",
            "8               Does your child use simple gestures?       0\n",
            "9  Does your child stare at nothing with no appar...       0\n"
          ]
        }
      ]
    },
    {
      "cell_type": "code",
      "source": [
        "# Mengubah kolom Jawaban menjadi array\n",
        "jawaban = data[\"Jawaban\"].values.astype(int)\n",
        "jawaban = jawaban.transpose()\n",
        "\n",
        "from keras.models import load_model\n",
        "import numpy as np\n",
        "\n",
        "# Melakukan prediksi menggunakan model\n",
        "model = load_model(\"model_01.h5\")\n",
        "X = np.expand_dims(jawaban, axis=0)\n",
        "prediksi = model.predict(X)\n",
        "\n",
        "# Menampilkan hasil prediksi\n",
        "print(prediksi)\n",
        "[\"Yes\" if prediksi >= 0.5 else \"No\" for prediksi in prediksi]"
      ],
      "metadata": {
        "colab": {
          "base_uri": "https://localhost:8080/"
        },
        "id": "hS8X6I4tSzJs",
        "outputId": "a27041fd-17d6-4c6c-e43d-fe8c44be2dac"
      },
      "execution_count": null,
      "outputs": [
        {
          "output_type": "stream",
          "name": "stdout",
          "text": [
            "1/1 [==============================] - 0s 140ms/step\n",
            "[[0.00386581]]\n"
          ]
        },
        {
          "output_type": "execute_result",
          "data": {
            "text/plain": [
              "['No']"
            ]
          },
          "metadata": {},
          "execution_count": 8
        }
      ]
    },
    {
      "cell_type": "markdown",
      "source": [
        "# TRAIN 02 (+ fitur 'Sex')"
      ],
      "metadata": {
        "id": "-WnootsSF0NT"
      }
    },
    {
      "cell_type": "code",
      "source": [
        "import pandas as pd\n",
        "data = pd.read_csv('/content/drive/MyDrive/Toddler Autism dataset July 2018.csv') \n",
        "data.head(10)"
      ],
      "metadata": {
        "colab": {
          "base_uri": "https://localhost:8080/",
          "height": 615
        },
        "outputId": "4c9b05f4-fb14-48b0-e96f-a9372982d892",
        "id": "BdoXVS1EF0NX"
      },
      "execution_count": null,
      "outputs": [
        {
          "output_type": "execute_result",
          "data": {
            "text/plain": [
              "   Case_No  A1  A2  A3  A4  A5  A6  A7  A8  A9  A10  Age_Mons  Qchat-10-Score  \\\n",
              "0        1   0   0   0   0   0   0   1   1   0    1        28               3   \n",
              "1        2   1   1   0   0   0   1   1   0   0    0        36               4   \n",
              "2        3   1   0   0   0   0   0   1   1   0    1        36               4   \n",
              "3        4   1   1   1   1   1   1   1   1   1    1        24              10   \n",
              "4        5   1   1   0   1   1   1   1   1   1    1        20               9   \n",
              "5        6   1   1   0   0   1   1   1   1   1    1        21               8   \n",
              "6        7   1   0   0   1   1   1   0   0   1    0        33               5   \n",
              "7        8   0   1   0   0   1   0   1   1   1    1        33               6   \n",
              "8        9   0   0   0   0   0   0   1   0   0    1        36               2   \n",
              "9       10   1   1   1   0   1   1   0   1   1    1        22               8   \n",
              "\n",
              "  Sex       Ethnicity Jaundice Family_mem_with_ASD    Who completed the test  \\\n",
              "0   f  middle eastern      yes                  no             family member   \n",
              "1   m  White European      yes                  no             family member   \n",
              "2   m  middle eastern      yes                  no             family member   \n",
              "3   m        Hispanic       no                  no             family member   \n",
              "4   f  White European       no                 yes             family member   \n",
              "5   m           black       no                  no             family member   \n",
              "6   m           asian      yes                  no             family member   \n",
              "7   m           asian      yes                  no             family member   \n",
              "8   m           asian       no                  no             family member   \n",
              "9   m     south asian       no                  no  Health Care Professional   \n",
              "\n",
              "  Class/ASD Traits   \n",
              "0                No  \n",
              "1               Yes  \n",
              "2               Yes  \n",
              "3               Yes  \n",
              "4               Yes  \n",
              "5               Yes  \n",
              "6               Yes  \n",
              "7               Yes  \n",
              "8                No  \n",
              "9               Yes  "
            ],
            "text/html": [
              "\n",
              "  <div id=\"df-eab68ae9-dc14-459d-9fb6-97f32d3fae91\">\n",
              "    <div class=\"colab-df-container\">\n",
              "      <div>\n",
              "<style scoped>\n",
              "    .dataframe tbody tr th:only-of-type {\n",
              "        vertical-align: middle;\n",
              "    }\n",
              "\n",
              "    .dataframe tbody tr th {\n",
              "        vertical-align: top;\n",
              "    }\n",
              "\n",
              "    .dataframe thead th {\n",
              "        text-align: right;\n",
              "    }\n",
              "</style>\n",
              "<table border=\"1\" class=\"dataframe\">\n",
              "  <thead>\n",
              "    <tr style=\"text-align: right;\">\n",
              "      <th></th>\n",
              "      <th>Case_No</th>\n",
              "      <th>A1</th>\n",
              "      <th>A2</th>\n",
              "      <th>A3</th>\n",
              "      <th>A4</th>\n",
              "      <th>A5</th>\n",
              "      <th>A6</th>\n",
              "      <th>A7</th>\n",
              "      <th>A8</th>\n",
              "      <th>A9</th>\n",
              "      <th>A10</th>\n",
              "      <th>Age_Mons</th>\n",
              "      <th>Qchat-10-Score</th>\n",
              "      <th>Sex</th>\n",
              "      <th>Ethnicity</th>\n",
              "      <th>Jaundice</th>\n",
              "      <th>Family_mem_with_ASD</th>\n",
              "      <th>Who completed the test</th>\n",
              "      <th>Class/ASD Traits</th>\n",
              "    </tr>\n",
              "  </thead>\n",
              "  <tbody>\n",
              "    <tr>\n",
              "      <th>0</th>\n",
              "      <td>1</td>\n",
              "      <td>0</td>\n",
              "      <td>0</td>\n",
              "      <td>0</td>\n",
              "      <td>0</td>\n",
              "      <td>0</td>\n",
              "      <td>0</td>\n",
              "      <td>1</td>\n",
              "      <td>1</td>\n",
              "      <td>0</td>\n",
              "      <td>1</td>\n",
              "      <td>28</td>\n",
              "      <td>3</td>\n",
              "      <td>f</td>\n",
              "      <td>middle eastern</td>\n",
              "      <td>yes</td>\n",
              "      <td>no</td>\n",
              "      <td>family member</td>\n",
              "      <td>No</td>\n",
              "    </tr>\n",
              "    <tr>\n",
              "      <th>1</th>\n",
              "      <td>2</td>\n",
              "      <td>1</td>\n",
              "      <td>1</td>\n",
              "      <td>0</td>\n",
              "      <td>0</td>\n",
              "      <td>0</td>\n",
              "      <td>1</td>\n",
              "      <td>1</td>\n",
              "      <td>0</td>\n",
              "      <td>0</td>\n",
              "      <td>0</td>\n",
              "      <td>36</td>\n",
              "      <td>4</td>\n",
              "      <td>m</td>\n",
              "      <td>White European</td>\n",
              "      <td>yes</td>\n",
              "      <td>no</td>\n",
              "      <td>family member</td>\n",
              "      <td>Yes</td>\n",
              "    </tr>\n",
              "    <tr>\n",
              "      <th>2</th>\n",
              "      <td>3</td>\n",
              "      <td>1</td>\n",
              "      <td>0</td>\n",
              "      <td>0</td>\n",
              "      <td>0</td>\n",
              "      <td>0</td>\n",
              "      <td>0</td>\n",
              "      <td>1</td>\n",
              "      <td>1</td>\n",
              "      <td>0</td>\n",
              "      <td>1</td>\n",
              "      <td>36</td>\n",
              "      <td>4</td>\n",
              "      <td>m</td>\n",
              "      <td>middle eastern</td>\n",
              "      <td>yes</td>\n",
              "      <td>no</td>\n",
              "      <td>family member</td>\n",
              "      <td>Yes</td>\n",
              "    </tr>\n",
              "    <tr>\n",
              "      <th>3</th>\n",
              "      <td>4</td>\n",
              "      <td>1</td>\n",
              "      <td>1</td>\n",
              "      <td>1</td>\n",
              "      <td>1</td>\n",
              "      <td>1</td>\n",
              "      <td>1</td>\n",
              "      <td>1</td>\n",
              "      <td>1</td>\n",
              "      <td>1</td>\n",
              "      <td>1</td>\n",
              "      <td>24</td>\n",
              "      <td>10</td>\n",
              "      <td>m</td>\n",
              "      <td>Hispanic</td>\n",
              "      <td>no</td>\n",
              "      <td>no</td>\n",
              "      <td>family member</td>\n",
              "      <td>Yes</td>\n",
              "    </tr>\n",
              "    <tr>\n",
              "      <th>4</th>\n",
              "      <td>5</td>\n",
              "      <td>1</td>\n",
              "      <td>1</td>\n",
              "      <td>0</td>\n",
              "      <td>1</td>\n",
              "      <td>1</td>\n",
              "      <td>1</td>\n",
              "      <td>1</td>\n",
              "      <td>1</td>\n",
              "      <td>1</td>\n",
              "      <td>1</td>\n",
              "      <td>20</td>\n",
              "      <td>9</td>\n",
              "      <td>f</td>\n",
              "      <td>White European</td>\n",
              "      <td>no</td>\n",
              "      <td>yes</td>\n",
              "      <td>family member</td>\n",
              "      <td>Yes</td>\n",
              "    </tr>\n",
              "    <tr>\n",
              "      <th>5</th>\n",
              "      <td>6</td>\n",
              "      <td>1</td>\n",
              "      <td>1</td>\n",
              "      <td>0</td>\n",
              "      <td>0</td>\n",
              "      <td>1</td>\n",
              "      <td>1</td>\n",
              "      <td>1</td>\n",
              "      <td>1</td>\n",
              "      <td>1</td>\n",
              "      <td>1</td>\n",
              "      <td>21</td>\n",
              "      <td>8</td>\n",
              "      <td>m</td>\n",
              "      <td>black</td>\n",
              "      <td>no</td>\n",
              "      <td>no</td>\n",
              "      <td>family member</td>\n",
              "      <td>Yes</td>\n",
              "    </tr>\n",
              "    <tr>\n",
              "      <th>6</th>\n",
              "      <td>7</td>\n",
              "      <td>1</td>\n",
              "      <td>0</td>\n",
              "      <td>0</td>\n",
              "      <td>1</td>\n",
              "      <td>1</td>\n",
              "      <td>1</td>\n",
              "      <td>0</td>\n",
              "      <td>0</td>\n",
              "      <td>1</td>\n",
              "      <td>0</td>\n",
              "      <td>33</td>\n",
              "      <td>5</td>\n",
              "      <td>m</td>\n",
              "      <td>asian</td>\n",
              "      <td>yes</td>\n",
              "      <td>no</td>\n",
              "      <td>family member</td>\n",
              "      <td>Yes</td>\n",
              "    </tr>\n",
              "    <tr>\n",
              "      <th>7</th>\n",
              "      <td>8</td>\n",
              "      <td>0</td>\n",
              "      <td>1</td>\n",
              "      <td>0</td>\n",
              "      <td>0</td>\n",
              "      <td>1</td>\n",
              "      <td>0</td>\n",
              "      <td>1</td>\n",
              "      <td>1</td>\n",
              "      <td>1</td>\n",
              "      <td>1</td>\n",
              "      <td>33</td>\n",
              "      <td>6</td>\n",
              "      <td>m</td>\n",
              "      <td>asian</td>\n",
              "      <td>yes</td>\n",
              "      <td>no</td>\n",
              "      <td>family member</td>\n",
              "      <td>Yes</td>\n",
              "    </tr>\n",
              "    <tr>\n",
              "      <th>8</th>\n",
              "      <td>9</td>\n",
              "      <td>0</td>\n",
              "      <td>0</td>\n",
              "      <td>0</td>\n",
              "      <td>0</td>\n",
              "      <td>0</td>\n",
              "      <td>0</td>\n",
              "      <td>1</td>\n",
              "      <td>0</td>\n",
              "      <td>0</td>\n",
              "      <td>1</td>\n",
              "      <td>36</td>\n",
              "      <td>2</td>\n",
              "      <td>m</td>\n",
              "      <td>asian</td>\n",
              "      <td>no</td>\n",
              "      <td>no</td>\n",
              "      <td>family member</td>\n",
              "      <td>No</td>\n",
              "    </tr>\n",
              "    <tr>\n",
              "      <th>9</th>\n",
              "      <td>10</td>\n",
              "      <td>1</td>\n",
              "      <td>1</td>\n",
              "      <td>1</td>\n",
              "      <td>0</td>\n",
              "      <td>1</td>\n",
              "      <td>1</td>\n",
              "      <td>0</td>\n",
              "      <td>1</td>\n",
              "      <td>1</td>\n",
              "      <td>1</td>\n",
              "      <td>22</td>\n",
              "      <td>8</td>\n",
              "      <td>m</td>\n",
              "      <td>south asian</td>\n",
              "      <td>no</td>\n",
              "      <td>no</td>\n",
              "      <td>Health Care Professional</td>\n",
              "      <td>Yes</td>\n",
              "    </tr>\n",
              "  </tbody>\n",
              "</table>\n",
              "</div>\n",
              "      <button class=\"colab-df-convert\" onclick=\"convertToInteractive('df-eab68ae9-dc14-459d-9fb6-97f32d3fae91')\"\n",
              "              title=\"Convert this dataframe to an interactive table.\"\n",
              "              style=\"display:none;\">\n",
              "        \n",
              "  <svg xmlns=\"http://www.w3.org/2000/svg\" height=\"24px\"viewBox=\"0 0 24 24\"\n",
              "       width=\"24px\">\n",
              "    <path d=\"M0 0h24v24H0V0z\" fill=\"none\"/>\n",
              "    <path d=\"M18.56 5.44l.94 2.06.94-2.06 2.06-.94-2.06-.94-.94-2.06-.94 2.06-2.06.94zm-11 1L8.5 8.5l.94-2.06 2.06-.94-2.06-.94L8.5 2.5l-.94 2.06-2.06.94zm10 10l.94 2.06.94-2.06 2.06-.94-2.06-.94-.94-2.06-.94 2.06-2.06.94z\"/><path d=\"M17.41 7.96l-1.37-1.37c-.4-.4-.92-.59-1.43-.59-.52 0-1.04.2-1.43.59L10.3 9.45l-7.72 7.72c-.78.78-.78 2.05 0 2.83L4 21.41c.39.39.9.59 1.41.59.51 0 1.02-.2 1.41-.59l7.78-7.78 2.81-2.81c.8-.78.8-2.07 0-2.86zM5.41 20L4 18.59l7.72-7.72 1.47 1.35L5.41 20z\"/>\n",
              "  </svg>\n",
              "      </button>\n",
              "      \n",
              "  <style>\n",
              "    .colab-df-container {\n",
              "      display:flex;\n",
              "      flex-wrap:wrap;\n",
              "      gap: 12px;\n",
              "    }\n",
              "\n",
              "    .colab-df-convert {\n",
              "      background-color: #E8F0FE;\n",
              "      border: none;\n",
              "      border-radius: 50%;\n",
              "      cursor: pointer;\n",
              "      display: none;\n",
              "      fill: #1967D2;\n",
              "      height: 32px;\n",
              "      padding: 0 0 0 0;\n",
              "      width: 32px;\n",
              "    }\n",
              "\n",
              "    .colab-df-convert:hover {\n",
              "      background-color: #E2EBFA;\n",
              "      box-shadow: 0px 1px 2px rgba(60, 64, 67, 0.3), 0px 1px 3px 1px rgba(60, 64, 67, 0.15);\n",
              "      fill: #174EA6;\n",
              "    }\n",
              "\n",
              "    [theme=dark] .colab-df-convert {\n",
              "      background-color: #3B4455;\n",
              "      fill: #D2E3FC;\n",
              "    }\n",
              "\n",
              "    [theme=dark] .colab-df-convert:hover {\n",
              "      background-color: #434B5C;\n",
              "      box-shadow: 0px 1px 3px 1px rgba(0, 0, 0, 0.15);\n",
              "      filter: drop-shadow(0px 1px 2px rgba(0, 0, 0, 0.3));\n",
              "      fill: #FFFFFF;\n",
              "    }\n",
              "  </style>\n",
              "\n",
              "      <script>\n",
              "        const buttonEl =\n",
              "          document.querySelector('#df-eab68ae9-dc14-459d-9fb6-97f32d3fae91 button.colab-df-convert');\n",
              "        buttonEl.style.display =\n",
              "          google.colab.kernel.accessAllowed ? 'block' : 'none';\n",
              "\n",
              "        async function convertToInteractive(key) {\n",
              "          const element = document.querySelector('#df-eab68ae9-dc14-459d-9fb6-97f32d3fae91');\n",
              "          const dataTable =\n",
              "            await google.colab.kernel.invokeFunction('convertToInteractive',\n",
              "                                                     [key], {});\n",
              "          if (!dataTable) return;\n",
              "\n",
              "          const docLinkHtml = 'Like what you see? Visit the ' +\n",
              "            '<a target=\"_blank\" href=https://colab.research.google.com/notebooks/data_table.ipynb>data table notebook</a>'\n",
              "            + ' to learn more about interactive tables.';\n",
              "          element.innerHTML = '';\n",
              "          dataTable['output_type'] = 'display_data';\n",
              "          await google.colab.output.renderOutput(dataTable, element);\n",
              "          const docLink = document.createElement('div');\n",
              "          docLink.innerHTML = docLinkHtml;\n",
              "          element.appendChild(docLink);\n",
              "        }\n",
              "      </script>\n",
              "    </div>\n",
              "  </div>\n",
              "  "
            ]
          },
          "metadata": {},
          "execution_count": 1
        }
      ]
    },
    {
      "cell_type": "code",
      "source": [
        "#load data yang diperlukan\n",
        "df = pd.read_csv('/content/drive/MyDrive/Toddler Autism dataset July 2018.csv', \n",
        "                 usecols=['A1', 'A2', 'A3', 'A4', 'A5', 'A6', 'A7', 'A8', 'A9', 'A10', 'Sex', 'Class/ASD Traits '])\n",
        "#ubah value target = 0/1\n",
        "df['Class/ASD Traits '] = df['Class/ASD Traits '].replace({'Yes': 1, 'No': 0})\n",
        "df['Sex'] = df['Sex'].replace({'f': 1, 'm': 0})\n",
        "df.head()"
      ],
      "metadata": {
        "colab": {
          "base_uri": "https://localhost:8080/",
          "height": 206
        },
        "outputId": "928adee0-44f3-4f1e-9beb-64da10322eb5",
        "id": "rWnNo6YYF0Na"
      },
      "execution_count": null,
      "outputs": [
        {
          "output_type": "execute_result",
          "data": {
            "text/plain": [
              "   A1  A2  A3  A4  A5  A6  A7  A8  A9  A10  Sex  Class/ASD Traits \n",
              "0   0   0   0   0   0   0   1   1   0    1    1                  0\n",
              "1   1   1   0   0   0   1   1   0   0    0    0                  1\n",
              "2   1   0   0   0   0   0   1   1   0    1    0                  1\n",
              "3   1   1   1   1   1   1   1   1   1    1    0                  1\n",
              "4   1   1   0   1   1   1   1   1   1    1    1                  1"
            ],
            "text/html": [
              "\n",
              "  <div id=\"df-7ff1fcee-6663-4adf-83b1-b9664da17b5e\">\n",
              "    <div class=\"colab-df-container\">\n",
              "      <div>\n",
              "<style scoped>\n",
              "    .dataframe tbody tr th:only-of-type {\n",
              "        vertical-align: middle;\n",
              "    }\n",
              "\n",
              "    .dataframe tbody tr th {\n",
              "        vertical-align: top;\n",
              "    }\n",
              "\n",
              "    .dataframe thead th {\n",
              "        text-align: right;\n",
              "    }\n",
              "</style>\n",
              "<table border=\"1\" class=\"dataframe\">\n",
              "  <thead>\n",
              "    <tr style=\"text-align: right;\">\n",
              "      <th></th>\n",
              "      <th>A1</th>\n",
              "      <th>A2</th>\n",
              "      <th>A3</th>\n",
              "      <th>A4</th>\n",
              "      <th>A5</th>\n",
              "      <th>A6</th>\n",
              "      <th>A7</th>\n",
              "      <th>A8</th>\n",
              "      <th>A9</th>\n",
              "      <th>A10</th>\n",
              "      <th>Sex</th>\n",
              "      <th>Class/ASD Traits</th>\n",
              "    </tr>\n",
              "  </thead>\n",
              "  <tbody>\n",
              "    <tr>\n",
              "      <th>0</th>\n",
              "      <td>0</td>\n",
              "      <td>0</td>\n",
              "      <td>0</td>\n",
              "      <td>0</td>\n",
              "      <td>0</td>\n",
              "      <td>0</td>\n",
              "      <td>1</td>\n",
              "      <td>1</td>\n",
              "      <td>0</td>\n",
              "      <td>1</td>\n",
              "      <td>1</td>\n",
              "      <td>0</td>\n",
              "    </tr>\n",
              "    <tr>\n",
              "      <th>1</th>\n",
              "      <td>1</td>\n",
              "      <td>1</td>\n",
              "      <td>0</td>\n",
              "      <td>0</td>\n",
              "      <td>0</td>\n",
              "      <td>1</td>\n",
              "      <td>1</td>\n",
              "      <td>0</td>\n",
              "      <td>0</td>\n",
              "      <td>0</td>\n",
              "      <td>0</td>\n",
              "      <td>1</td>\n",
              "    </tr>\n",
              "    <tr>\n",
              "      <th>2</th>\n",
              "      <td>1</td>\n",
              "      <td>0</td>\n",
              "      <td>0</td>\n",
              "      <td>0</td>\n",
              "      <td>0</td>\n",
              "      <td>0</td>\n",
              "      <td>1</td>\n",
              "      <td>1</td>\n",
              "      <td>0</td>\n",
              "      <td>1</td>\n",
              "      <td>0</td>\n",
              "      <td>1</td>\n",
              "    </tr>\n",
              "    <tr>\n",
              "      <th>3</th>\n",
              "      <td>1</td>\n",
              "      <td>1</td>\n",
              "      <td>1</td>\n",
              "      <td>1</td>\n",
              "      <td>1</td>\n",
              "      <td>1</td>\n",
              "      <td>1</td>\n",
              "      <td>1</td>\n",
              "      <td>1</td>\n",
              "      <td>1</td>\n",
              "      <td>0</td>\n",
              "      <td>1</td>\n",
              "    </tr>\n",
              "    <tr>\n",
              "      <th>4</th>\n",
              "      <td>1</td>\n",
              "      <td>1</td>\n",
              "      <td>0</td>\n",
              "      <td>1</td>\n",
              "      <td>1</td>\n",
              "      <td>1</td>\n",
              "      <td>1</td>\n",
              "      <td>1</td>\n",
              "      <td>1</td>\n",
              "      <td>1</td>\n",
              "      <td>1</td>\n",
              "      <td>1</td>\n",
              "    </tr>\n",
              "  </tbody>\n",
              "</table>\n",
              "</div>\n",
              "      <button class=\"colab-df-convert\" onclick=\"convertToInteractive('df-7ff1fcee-6663-4adf-83b1-b9664da17b5e')\"\n",
              "              title=\"Convert this dataframe to an interactive table.\"\n",
              "              style=\"display:none;\">\n",
              "        \n",
              "  <svg xmlns=\"http://www.w3.org/2000/svg\" height=\"24px\"viewBox=\"0 0 24 24\"\n",
              "       width=\"24px\">\n",
              "    <path d=\"M0 0h24v24H0V0z\" fill=\"none\"/>\n",
              "    <path d=\"M18.56 5.44l.94 2.06.94-2.06 2.06-.94-2.06-.94-.94-2.06-.94 2.06-2.06.94zm-11 1L8.5 8.5l.94-2.06 2.06-.94-2.06-.94L8.5 2.5l-.94 2.06-2.06.94zm10 10l.94 2.06.94-2.06 2.06-.94-2.06-.94-.94-2.06-.94 2.06-2.06.94z\"/><path d=\"M17.41 7.96l-1.37-1.37c-.4-.4-.92-.59-1.43-.59-.52 0-1.04.2-1.43.59L10.3 9.45l-7.72 7.72c-.78.78-.78 2.05 0 2.83L4 21.41c.39.39.9.59 1.41.59.51 0 1.02-.2 1.41-.59l7.78-7.78 2.81-2.81c.8-.78.8-2.07 0-2.86zM5.41 20L4 18.59l7.72-7.72 1.47 1.35L5.41 20z\"/>\n",
              "  </svg>\n",
              "      </button>\n",
              "      \n",
              "  <style>\n",
              "    .colab-df-container {\n",
              "      display:flex;\n",
              "      flex-wrap:wrap;\n",
              "      gap: 12px;\n",
              "    }\n",
              "\n",
              "    .colab-df-convert {\n",
              "      background-color: #E8F0FE;\n",
              "      border: none;\n",
              "      border-radius: 50%;\n",
              "      cursor: pointer;\n",
              "      display: none;\n",
              "      fill: #1967D2;\n",
              "      height: 32px;\n",
              "      padding: 0 0 0 0;\n",
              "      width: 32px;\n",
              "    }\n",
              "\n",
              "    .colab-df-convert:hover {\n",
              "      background-color: #E2EBFA;\n",
              "      box-shadow: 0px 1px 2px rgba(60, 64, 67, 0.3), 0px 1px 3px 1px rgba(60, 64, 67, 0.15);\n",
              "      fill: #174EA6;\n",
              "    }\n",
              "\n",
              "    [theme=dark] .colab-df-convert {\n",
              "      background-color: #3B4455;\n",
              "      fill: #D2E3FC;\n",
              "    }\n",
              "\n",
              "    [theme=dark] .colab-df-convert:hover {\n",
              "      background-color: #434B5C;\n",
              "      box-shadow: 0px 1px 3px 1px rgba(0, 0, 0, 0.15);\n",
              "      filter: drop-shadow(0px 1px 2px rgba(0, 0, 0, 0.3));\n",
              "      fill: #FFFFFF;\n",
              "    }\n",
              "  </style>\n",
              "\n",
              "      <script>\n",
              "        const buttonEl =\n",
              "          document.querySelector('#df-7ff1fcee-6663-4adf-83b1-b9664da17b5e button.colab-df-convert');\n",
              "        buttonEl.style.display =\n",
              "          google.colab.kernel.accessAllowed ? 'block' : 'none';\n",
              "\n",
              "        async function convertToInteractive(key) {\n",
              "          const element = document.querySelector('#df-7ff1fcee-6663-4adf-83b1-b9664da17b5e');\n",
              "          const dataTable =\n",
              "            await google.colab.kernel.invokeFunction('convertToInteractive',\n",
              "                                                     [key], {});\n",
              "          if (!dataTable) return;\n",
              "\n",
              "          const docLinkHtml = 'Like what you see? Visit the ' +\n",
              "            '<a target=\"_blank\" href=https://colab.research.google.com/notebooks/data_table.ipynb>data table notebook</a>'\n",
              "            + ' to learn more about interactive tables.';\n",
              "          element.innerHTML = '';\n",
              "          dataTable['output_type'] = 'display_data';\n",
              "          await google.colab.output.renderOutput(dataTable, element);\n",
              "          const docLink = document.createElement('div');\n",
              "          docLink.innerHTML = docLinkHtml;\n",
              "          element.appendChild(docLink);\n",
              "        }\n",
              "      </script>\n",
              "    </div>\n",
              "  </div>\n",
              "  "
            ]
          },
          "metadata": {},
          "execution_count": 2
        }
      ]
    },
    {
      "cell_type": "code",
      "source": [
        "#split data fitures/target\n",
        "x = df.iloc[:,:-1].values\n",
        "y = df.iloc[:,-1].values"
      ],
      "metadata": {
        "id": "4_1M7QE6F0Nc"
      },
      "execution_count": null,
      "outputs": []
    },
    {
      "cell_type": "code",
      "source": [
        "print('fitures :', x)\n",
        "print('target', y)"
      ],
      "metadata": {
        "colab": {
          "base_uri": "https://localhost:8080/"
        },
        "outputId": "0eb2f3b0-3b63-42ff-8e4f-990d06841a65",
        "id": "XdV8FuQGF0Nd"
      },
      "execution_count": null,
      "outputs": [
        {
          "output_type": "stream",
          "name": "stdout",
          "text": [
            "fitures : [[0 0 0 ... 0 1 1]\n",
            " [1 1 0 ... 0 0 0]\n",
            " [1 0 0 ... 0 1 0]\n",
            " ...\n",
            " [1 0 1 ... 1 1 0]\n",
            " [1 0 0 ... 0 1 0]\n",
            " [1 1 0 ... 1 0 0]]\n",
            "target [0 1 1 ... 1 0 1]\n"
          ]
        }
      ]
    },
    {
      "cell_type": "code",
      "source": [
        "from sklearn.model_selection import train_test_split\n",
        "#split data train/test\n",
        "x_train, x_test, y_train, y_test = train_test_split(x , y, test_size=0.2, random_state=42)"
      ],
      "metadata": {
        "id": "l9Kri0fPF0Ne"
      },
      "execution_count": null,
      "outputs": []
    },
    {
      "cell_type": "code",
      "source": [
        "print('jumlah x_train : ',len(x_train))\n",
        "print('jumlah x_test : ',len(x_test))\n",
        "print('jumlah y_train : ',len(y_train))\n",
        "print('jumlah y_test : ',len(y_test))"
      ],
      "metadata": {
        "colab": {
          "base_uri": "https://localhost:8080/"
        },
        "outputId": "86fcac3a-12ae-4fdb-a423-79cd843a0937",
        "id": "b9PsdJjcF0Nf"
      },
      "execution_count": null,
      "outputs": [
        {
          "output_type": "stream",
          "name": "stdout",
          "text": [
            "jumlah x_train :  843\n",
            "jumlah x_test :  211\n",
            "jumlah y_train :  843\n",
            "jumlah y_test :  211\n"
          ]
        }
      ]
    },
    {
      "cell_type": "code",
      "source": [
        "print('x_train : ', x_train.shape)\n",
        "print('x_test : ', x_test.shape)\n",
        "print('y_train : ', y_train.shape)\n",
        "print('y_test : ', y_test.shape)"
      ],
      "metadata": {
        "colab": {
          "base_uri": "https://localhost:8080/"
        },
        "outputId": "358578e8-3033-4f4b-ab94-3c789f89d06d",
        "id": "zrMEI-GfF0Ng"
      },
      "execution_count": null,
      "outputs": [
        {
          "output_type": "stream",
          "name": "stdout",
          "text": [
            "x_train :  (843, 11)\n",
            "x_test :  (211, 11)\n",
            "y_train :  (843,)\n",
            "y_test :  (211,)\n"
          ]
        }
      ]
    },
    {
      "cell_type": "code",
      "source": [
        "from keras.models import Sequential\n",
        "from keras.layers import Dense"
      ],
      "metadata": {
        "id": "mkWO8Qm3F0Nh"
      },
      "execution_count": null,
      "outputs": []
    },
    {
      "cell_type": "code",
      "source": [
        "#siapkan arsitektur model\n",
        "model = Sequential([\n",
        "    Dense(16, activation='relu', input_dim=11),\n",
        "    Dense(10, activation='relu'),\n",
        "    Dense(1, activation='sigmoid')\n",
        "])\n",
        "\n",
        "#compile\n",
        "model.compile(optimizer='adam', loss='binary_crossentropy', metrics=['accuracy'])\n",
        "\n",
        "model.summary()"
      ],
      "metadata": {
        "colab": {
          "base_uri": "https://localhost:8080/"
        },
        "outputId": "d762ed80-e68b-49a9-adc9-46bd01f1d576",
        "id": "qiWH0R9eF0Ni"
      },
      "execution_count": null,
      "outputs": [
        {
          "output_type": "stream",
          "name": "stdout",
          "text": [
            "Model: \"sequential_1\"\n",
            "_________________________________________________________________\n",
            " Layer (type)                Output Shape              Param #   \n",
            "=================================================================\n",
            " dense_3 (Dense)             (None, 16)                192       \n",
            "                                                                 \n",
            " dense_4 (Dense)             (None, 10)                170       \n",
            "                                                                 \n",
            " dense_5 (Dense)             (None, 1)                 11        \n",
            "                                                                 \n",
            "=================================================================\n",
            "Total params: 373\n",
            "Trainable params: 373\n",
            "Non-trainable params: 0\n",
            "_________________________________________________________________\n"
          ]
        }
      ]
    },
    {
      "cell_type": "code",
      "source": [
        "#train model\n",
        "history = model.fit(x_train, y_train, epochs=20, batch_size=10, validation_data=(x_test, y_test))"
      ],
      "metadata": {
        "colab": {
          "base_uri": "https://localhost:8080/"
        },
        "outputId": "0a1e839c-ce83-411f-c176-ab08e8bdcff1",
        "id": "CbxJtEmUF0Nk"
      },
      "execution_count": null,
      "outputs": [
        {
          "output_type": "stream",
          "name": "stdout",
          "text": [
            "Epoch 1/20\n",
            "85/85 [==============================] - 2s 5ms/step - loss: 0.6264 - accuracy: 0.7663 - val_loss: 0.5475 - val_accuracy: 0.8057\n",
            "Epoch 2/20\n",
            "85/85 [==============================] - 0s 2ms/step - loss: 0.4415 - accuracy: 0.8043 - val_loss: 0.3454 - val_accuracy: 0.8720\n",
            "Epoch 3/20\n",
            "85/85 [==============================] - 0s 3ms/step - loss: 0.2910 - accuracy: 0.8861 - val_loss: 0.2302 - val_accuracy: 0.9005\n",
            "Epoch 4/20\n",
            "85/85 [==============================] - 0s 2ms/step - loss: 0.2052 - accuracy: 0.9205 - val_loss: 0.1711 - val_accuracy: 0.9479\n",
            "Epoch 5/20\n",
            "85/85 [==============================] - 0s 3ms/step - loss: 0.1583 - accuracy: 0.9442 - val_loss: 0.1343 - val_accuracy: 0.9621\n",
            "Epoch 6/20\n",
            "85/85 [==============================] - 0s 3ms/step - loss: 0.1257 - accuracy: 0.9526 - val_loss: 0.1127 - val_accuracy: 0.9621\n",
            "Epoch 7/20\n",
            "85/85 [==============================] - 0s 2ms/step - loss: 0.1042 - accuracy: 0.9668 - val_loss: 0.0945 - val_accuracy: 0.9716\n",
            "Epoch 8/20\n",
            "85/85 [==============================] - 0s 2ms/step - loss: 0.0864 - accuracy: 0.9775 - val_loss: 0.0822 - val_accuracy: 0.9763\n",
            "Epoch 9/20\n",
            "85/85 [==============================] - 0s 3ms/step - loss: 0.0736 - accuracy: 0.9822 - val_loss: 0.0704 - val_accuracy: 0.9763\n",
            "Epoch 10/20\n",
            "85/85 [==============================] - 0s 2ms/step - loss: 0.0631 - accuracy: 0.9929 - val_loss: 0.0654 - val_accuracy: 0.9763\n",
            "Epoch 11/20\n",
            "85/85 [==============================] - 0s 3ms/step - loss: 0.0546 - accuracy: 0.9941 - val_loss: 0.0573 - val_accuracy: 0.9763\n",
            "Epoch 12/20\n",
            "85/85 [==============================] - 0s 3ms/step - loss: 0.0472 - accuracy: 0.9976 - val_loss: 0.0540 - val_accuracy: 0.9763\n",
            "Epoch 13/20\n",
            "85/85 [==============================] - 0s 2ms/step - loss: 0.0415 - accuracy: 0.9964 - val_loss: 0.0478 - val_accuracy: 0.9763\n",
            "Epoch 14/20\n",
            "85/85 [==============================] - 0s 2ms/step - loss: 0.0363 - accuracy: 0.9988 - val_loss: 0.0432 - val_accuracy: 0.9763\n",
            "Epoch 15/20\n",
            "85/85 [==============================] - 0s 3ms/step - loss: 0.0316 - accuracy: 1.0000 - val_loss: 0.0405 - val_accuracy: 0.9763\n",
            "Epoch 16/20\n",
            "85/85 [==============================] - 0s 3ms/step - loss: 0.0285 - accuracy: 0.9988 - val_loss: 0.0377 - val_accuracy: 0.9810\n",
            "Epoch 17/20\n",
            "85/85 [==============================] - 0s 3ms/step - loss: 0.0244 - accuracy: 1.0000 - val_loss: 0.0368 - val_accuracy: 0.9763\n",
            "Epoch 18/20\n",
            "85/85 [==============================] - 0s 2ms/step - loss: 0.0230 - accuracy: 0.9988 - val_loss: 0.0319 - val_accuracy: 0.9810\n",
            "Epoch 19/20\n",
            "85/85 [==============================] - 0s 3ms/step - loss: 0.0200 - accuracy: 1.0000 - val_loss: 0.0306 - val_accuracy: 0.9858\n",
            "Epoch 20/20\n",
            "85/85 [==============================] - 0s 3ms/step - loss: 0.0181 - accuracy: 1.0000 - val_loss: 0.0272 - val_accuracy: 0.9905\n"
          ]
        }
      ]
    },
    {
      "cell_type": "code",
      "source": [
        "#evaluasi performa model\n",
        "loss, acc = model.evaluate(x_test, y_test)\n",
        "print('Test accuracy:', acc)"
      ],
      "metadata": {
        "colab": {
          "base_uri": "https://localhost:8080/"
        },
        "outputId": "8f5a6b7f-9d59-42ae-fe9d-e2a68a05eadd",
        "id": "-RjUIMzQF0No"
      },
      "execution_count": null,
      "outputs": [
        {
          "output_type": "stream",
          "name": "stdout",
          "text": [
            "7/7 [==============================] - 0s 3ms/step - loss: 0.0272 - accuracy: 0.9905\n",
            "Test accuracy: 0.9905213117599487\n"
          ]
        }
      ]
    },
    {
      "cell_type": "code",
      "source": [
        "y_pred = model.predict(x_test[:5])\n",
        "y_pred = (y_pred > 0.5) * 1\n",
        "y_pred"
      ],
      "metadata": {
        "colab": {
          "base_uri": "https://localhost:8080/"
        },
        "outputId": "f6754eb1-fa29-4250-dc71-726c47437226",
        "id": "_l3KT7B9F0Nq"
      },
      "execution_count": null,
      "outputs": [
        {
          "output_type": "stream",
          "name": "stdout",
          "text": [
            "1/1 [==============================] - 0s 111ms/step\n"
          ]
        },
        {
          "output_type": "execute_result",
          "data": {
            "text/plain": [
              "array([[1],\n",
              "       [0],\n",
              "       [0],\n",
              "       [1],\n",
              "       [1]])"
            ]
          },
          "metadata": {},
          "execution_count": 13
        }
      ]
    },
    {
      "cell_type": "code",
      "source": [
        "y_test[:5]"
      ],
      "metadata": {
        "colab": {
          "base_uri": "https://localhost:8080/"
        },
        "outputId": "cd0ea001-686a-4c56-cf33-86e5c1d6a0c8",
        "id": "mWnth94OF0Nr"
      },
      "execution_count": null,
      "outputs": [
        {
          "output_type": "execute_result",
          "data": {
            "text/plain": [
              "array([1, 0, 0, 1, 1])"
            ]
          },
          "metadata": {},
          "execution_count": 14
        }
      ]
    },
    {
      "cell_type": "code",
      "source": [
        "import matplotlib.pyplot as plt\n",
        "\n",
        "# plot accuracy history\n",
        "plt.plot(history.history['accuracy'])\n",
        "plt.plot(history.history['val_accuracy'])\n",
        "plt.title('Model Accuracy')\n",
        "plt.ylabel('Accuracy')\n",
        "plt.xlabel('Epoch')\n",
        "plt.legend(['train', 'val'], loc='upper left')\n",
        "plt.show()\n",
        "\n",
        "# plot loss history\n",
        "plt.plot(history.history['loss'])\n",
        "plt.plot(history.history['val_loss'])\n",
        "plt.title('Model Loss')\n",
        "plt.ylabel('Loss')\n",
        "plt.xlabel('Epoch')\n",
        "plt.legend(['train', 'val'], loc='upper left')\n",
        "plt.show()"
      ],
      "metadata": {
        "colab": {
          "base_uri": "https://localhost:8080/",
          "height": 927
        },
        "outputId": "5c338923-90c9-4b4b-c00b-6dcf5b7f0341",
        "id": "AflXWr3aF0Nt"
      },
      "execution_count": null,
      "outputs": [
        {
          "output_type": "display_data",
          "data": {
            "text/plain": [
              "<Figure size 640x480 with 1 Axes>"
            ],
            "image/png": "[encoded data removed]"
          },
          "metadata": {}
        },
        {
          "output_type": "display_data",
          "data": {
            "text/plain": [
              "<Figure size 640x480 with 1 Axes>"
            ],
            "image/png": "[encoded data removed]"
          },
          "metadata": {}
        }
      ]
    },
    {
      "cell_type": "code",
      "source": [
        "model.save('model_02.h5')"
      ],
      "metadata": {
        "id": "aKQHc9lPF0Nv"
      },
      "execution_count": null,
      "outputs": []
    },
    {
      "cell_type": "code",
      "source": [
        "#convert models > tf lite\n",
        "import tensorflow as tf\n",
        "tf.saved_model.save(model,'/content/TFLite/')"
      ],
      "metadata": {
        "colab": {
          "base_uri": "https://localhost:8080/"
        },
        "outputId": "ca4d2ca2-44bc-4c12-a85c-3ca49037bc24",
        "id": "jQK08famF0Nx"
      },
      "execution_count": null,
      "outputs": [
        {
          "output_type": "stream",
          "name": "stderr",
          "text": [
            "WARNING:absl:Found untraced functions such as _update_step_xla while saving (showing 1 of 1). These functions will not be directly callable after loading.\n"
          ]
        }
      ]
    },
    {
      "cell_type": "code",
      "source": [
        "import pathlib\n",
        "converter = tf.lite.TFLiteConverter.from_saved_model('/content/TFLite')\n",
        "tflite_model = converter.convert()\n",
        "tflite_model_file = pathlib.Path('model_02.tflite')\n",
        "tflite_model_file.write_bytes(tflite_model)"
      ],
      "metadata": {
        "colab": {
          "base_uri": "https://localhost:8080/"
        },
        "outputId": "54f73484-c3b9-46e4-9022-383d47bd7225",
        "id": "FJuzFQkFF0Nz"
      },
      "execution_count": null,
      "outputs": [
        {
          "output_type": "execute_result",
          "data": {
            "text/plain": [
              "3584"
            ]
          },
          "metadata": {},
          "execution_count": 20
        }
      ]
    },
    {
      "cell_type": "markdown",
      "source": [
        "# Test 02"
      ],
      "metadata": {
        "id": "atLlwhJGJ2DP"
      }
    },
    {
      "cell_type": "code",
      "source": [
        "import pandas as pd"
      ],
      "metadata": {
        "id": "Dr39Mel8J2DQ"
      },
      "execution_count": null,
      "outputs": []
    },
    {
      "cell_type": "code",
      "source": [
        "# Daftar pertanyaan\n",
        "pertanyaan = [\n",
        "    \"Does your child look at you when you call his/her name?\",\n",
        "    \"How easy is it for you to get eye contact with your child?\",\n",
        "    \"Does your child point to indicate that s/he wants something?\",\n",
        "    \"Does your child point to share interest with you?\",\n",
        "    \"Does your child pretend?\",\n",
        "    \"Does your child follow where you’re looking?\",\n",
        "    \"If you or someone else in the family is visibly upset, does your child show signs of wanna comfort them?\",\n",
        "    \"Would you describe your child’s first words as: \",\n",
        "    \"Does your child use simple gestures?\",\n",
        "    \"Does your child stare at nothing with no apparent purpose?\",\n",
        "    \"Male: 0 or Female:1?\"\n",
        "]\n",
        "\n",
        "# Membuat dataframe kosong untuk menyimpan jawaban\n",
        "data = pd.DataFrame(columns=[\"Pertanyaan\", \"Jawaban\"])\n",
        "\n",
        "# Mengisi jawaban untuk setiap pertanyaan\n",
        "for i, pertanyaan in enumerate(pertanyaan):\n",
        "    jawaban = input(pertanyaan + \" (0/1): \")\n",
        "    data.loc[i] = [pertanyaan, jawaban]\n",
        "\n",
        "# Menyimpan jawaban ke file CSV\n",
        "data.to_csv(\"jawaban.csv\", index=False)\n",
        "\n",
        "# Menampilkan data yang telah disimpan\n",
        "print(\"Data jawaban telah disimpan:\")\n",
        "print(data)"
      ],
      "metadata": {
        "colab": {
          "base_uri": "https://localhost:8080/"
        },
        "outputId": "5f30ed69-16fb-4881-f83c-6cbbb9dc5426",
        "id": "RV2TZ2N3J2DR"
      },
      "execution_count": 38,
      "outputs": [
        {
          "output_type": "stream",
          "name": "stdout",
          "text": [
            "Does your child look at you when you call his/her name? (0/1): 1\n",
            "How easy is it for you to get eye contact with your child? (0/1): 1\n",
            "Does your child point to indicate that s/he wants something? (0/1): 1\n",
            "Does your child point to share interest with you? (0/1): 1\n",
            "Does your child pretend? (0/1): 1\n",
            "Does your child follow where you’re looking? (0/1): 0\n",
            "If you or someone else in the family is visibly upset, does your child show signs of wanna comfort them? (0/1): 0\n",
            "Would you describe your child’s first words as:  (0/1): 0\n",
            "Does your child use simple gestures? (0/1): 0\n",
            "Does your child stare at nothing with no apparent purpose? (0/1): 0\n",
            "Male: 0 or Female:1? (0/1): 1\n",
            "Data jawaban telah disimpan:\n",
            "                                           Pertanyaan Jawaban\n",
            "0   Does your child look at you when you call his/...       1\n",
            "1   How easy is it for you to get eye contact with...       1\n",
            "2   Does your child point to indicate that s/he wa...       1\n",
            "3   Does your child point to share interest with you?       1\n",
            "4                            Does your child pretend?       1\n",
            "5        Does your child follow where you’re looking?       0\n",
            "6   If you or someone else in the family is visibl...       0\n",
            "7    Would you describe your child’s first words as:        0\n",
            "8                Does your child use simple gestures?       0\n",
            "9   Does your child stare at nothing with no appar...       0\n",
            "10                               Male: 0 or Female:1?       1\n"
          ]
        }
      ]
    },
    {
      "cell_type": "code",
      "source": [
        "1# Mengubah kolom Jawaban menjadi array\n",
        "jawaban = data[\"Jawaban\"].values.astype(int)\n",
        "jawaban = jawaban.transpose()\n",
        "\n",
        "from keras.models import load_model\n",
        "import numpy as np\n",
        "\n",
        "# Melakukan prediksi menggunakan model\n",
        "model = load_model(\"model_02.h5\")\n",
        "X = np.expand_dims(jawaban, axis=0)\n",
        "prediksi = model.predict(X)\n",
        "\n",
        "# Menampilkan hasil prediksi\n",
        "print(prediksi)\n",
        "[\"Yes\" if prediksi >= 0.5 else \"No\" for prediksi in prediksi]"
      ],
      "metadata": {
        "colab": {
          "base_uri": "https://localhost:8080/"
        },
        "outputId": "75b4e676-e9ce-4953-ed66-74d8e9311718",
        "id": "qq1_VhPnJ2DU"
      },
      "execution_count": 39,
      "outputs": [
        {
          "output_type": "stream",
          "name": "stdout",
          "text": [
            "1/1 [==============================] - 0s 59ms/step\n",
            "[[0.9905636]]\n"
          ]
        },
        {
          "output_type": "execute_result",
          "data": {
            "text/plain": [
              "['Yes']"
            ]
          },
          "metadata": {},
          "execution_count": 39
        }
      ]
    },
    {
      "cell_type": "markdown",
      "source": [
        "**Ekperimen** model_02 dengan fitur 10 Q-Chat + Sex\n",
        "\n",
        "*   input 11000000000 > output [[0.00321399]], ['No']\n",
        "*   input 11000000001 > output [[0.00058287]], ['No']\n",
        "*   input 11100000000 > output [[0.02625393]], ['No']\n",
        "*   input 11100000001 > output [[0.02882831]], ['No']\n",
        "*   input 11110000000 > output [[0.8542407]], ['Yes']\n",
        "*   input 11110000001 > output [[0.7015571]], ['Yes']\n",
        "*   input 11111000000 > output [[0.9947954]], ['Yes']\n",
        "*   input 11111000001 > output [[0.9905636]], ['Yes']\n",
        " \n",
        "**Kesimpulan**:\n",
        "fitur tambahan hanya mempengaruhi sedikit nilai akurasi tetapi tidak sampai merubah status traits"
      ],
      "metadata": {
        "id": "R5kauNseLFIo"
      }
    },
    {
      "cell_type": "code",
      "source": [],
      "metadata": {
        "id": "q9lUzvFaym4W"
      },
      "execution_count": 1,
      "outputs": []
    }
  ]
}
